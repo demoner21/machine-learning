{
  "nbformat": 4,
  "nbformat_minor": 0,
  "metadata": {
    "colab": {
      "provenance": [],
      "include_colab_link": true
    },
    "kernelspec": {
      "name": "python3",
      "display_name": "Python 3"
    },
    "accelerator": "GPU"
  },
  "cells": [
    {
      "cell_type": "markdown",
      "metadata": {
        "id": "view-in-github",
        "colab_type": "text"
      },
      "source": [
        "<a href=\"https://colab.research.google.com/github/demoner21/machine-learning/blob/main/Cats_v_Dogs.ipynb\" target=\"_parent\"><img src=\"https://colab.research.google.com/assets/colab-badge.svg\" alt=\"Open In Colab\"/></a>"
      ]
    },
    {
      "cell_type": "markdown",
      "metadata": {
        "id": "7v55rWlQehzL"
      },
      "source": [
        "## Training with a Larger Dataset - Cats and Dogs\n",
        "\n",
        "In the previous lab you trained a classifier with a horses-v-humans dataset. You saw that despite getting great training results, when you tried to do classification with real images, there were many errors, due primarily to overfitting -- where the network  does very well with data that it has previously seen, but poorly with data it hasn't!\n",
        "\n",
        "In this lab you'll look at a real, and very large dataset, and see the impact this has to avoid overfitting."
      ]
    },
    {
      "cell_type": "code",
      "source": [
        "import tensorflow as tf\n",
        "import tensorflow_datasets as tfds\n",
        "from tensorflow.keras.optimizers import RMSprop\n",
        "import matplotlib.pyplot as plt\n",
        "import numpy as np\n",
        "from google.colab import files"
      ],
      "metadata": {
        "id": "kU3EaAMQLtvK"
      },
      "execution_count": null,
      "outputs": []
    },
    {
      "cell_type": "code",
      "source": [
        "# --- Definição do Modelo (o mesmo que você já tem) ---\n",
        "model = tf.keras.models.Sequential([\n",
        "    tf.keras.layers.Conv2D(16, (3, 3), activation='relu', input_shape=(150, 150, 3)),\n",
        "    tf.keras.layers.MaxPooling2D(2, 2),\n",
        "    tf.keras.layers.Conv2D(32, (3, 3), activation='relu'),\n",
        "    tf.keras.layers.MaxPooling2D(2, 2),\n",
        "    tf.keras.layers.Conv2D(64, (3, 3), activation='relu'),\n",
        "    tf.keras.layers.MaxPooling2D(2, 2),\n",
        "    tf.keras.layers.Flatten(),\n",
        "    tf.keras.layers.Dense(512, activation='relu'),\n",
        "    tf.keras.layers.Dense(1, activation='sigmoid')\n",
        "])\n",
        "\n",
        "# --- Compilação do Modelo ---\n",
        "model.compile(optimizer=RMSprop(learning_rate=0.001), loss='binary_crossentropy', metrics=['acc'])\n",
        "\n",
        "# --- Importando e Preparando o Dataset CatsVsDogs com tfds ---\n",
        "print(\"Baixando e preparando o dataset CatsVsDogs...\")\n",
        "# Carrega apenas o split 'train'\n",
        "(ds_full_train,), ds_info = tfds.load(\n",
        "    'cats_vs_dogs',\n",
        "    split=['train'], # Apenas o split 'train' está disponível\n",
        "    shuffle_files=True,\n",
        "    as_supervised=True,\n",
        "    with_info=True,\n",
        "    data_dir='/tmp/tensorflow_datasets'\n",
        ")\n",
        "print(\"Dataset CatsVsDogs pronto!\")"
      ],
      "metadata": {
        "colab": {
          "base_uri": "https://localhost:8080/"
        },
        "id": "-4YMLuCTLzOF",
        "outputId": "83c83c5c-5303-4d92-a95f-3e55e23b614e"
      },
      "execution_count": null,
      "outputs": [
        {
          "output_type": "stream",
          "name": "stdout",
          "text": [
            "Baixando e preparando o dataset CatsVsDogs...\n",
            "Dataset CatsVsDogs pronto!\n"
          ]
        },
        {
          "output_type": "stream",
          "name": "stderr",
          "text": [
            "/usr/local/lib/python3.11/dist-packages/keras/src/layers/convolutional/base_conv.py:107: UserWarning: Do not pass an `input_shape`/`input_dim` argument to a layer. When using Sequential models, prefer using an `Input(shape)` object as the first layer in the model instead.\n",
            "  super().__init__(activity_regularizer=activity_regularizer, **kwargs)\n"
          ]
        }
      ]
    },
    {
      "cell_type": "code",
      "source": [
        "# Dividir o dataset 'train' em treinamento e validação\n",
        "TRAIN_SIZE = 0.8 # 80% para treinamento, 20% para validação\n",
        "# A informação sobre o número total de exemplos está em ds_info.splits['train'].num_examples\n",
        "num_train_examples = ds_info.splits['train'].num_examples\n",
        "num_validation_examples = int(num_train_examples * (1 - TRAIN_SIZE))\n",
        "num_training_examples = num_train_examples - num_validation_examples\n",
        "\n",
        "ds_train = ds_full_train.skip(num_validation_examples)\n",
        "ds_test = ds_full_train.take(num_validation_examples)"
      ],
      "metadata": {
        "id": "Cheg4AlQL4XF"
      },
      "execution_count": null,
      "outputs": []
    },
    {
      "cell_type": "code",
      "source": [
        "# Função para pré-processar as imagens\n",
        "def preprocess(image, label):\n",
        "    image = tf.image.resize(image, (150, 150))\n",
        "    image = tf.cast(image, tf.float32) / 255.0 # Normalização\n",
        "    return image, label\n",
        "\n",
        "# Aplicar o pré-processamento e batch\n",
        "BATCH_SIZE = 250\n",
        "\n",
        "ds_train = ds_train.map(preprocess).batch(BATCH_SIZE).prefetch(tf.data.AUTOTUNE)\n",
        "ds_test = ds_test.map(preprocess).batch(BATCH_SIZE).prefetch(tf.data.AUTOTUNE)"
      ],
      "metadata": {
        "id": "iqDkhkIML7Ep"
      },
      "execution_count": null,
      "outputs": []
    },
    {
      "cell_type": "code",
      "source": [
        "# --- Treinamento do Modelo ---\n",
        "print(\"\\n--- Iniciando o Treinamento do Modelo ---\")\n",
        "history = model.fit(\n",
        "    ds_train,\n",
        "    epochs=15,\n",
        "    validation_data=ds_test\n",
        ")\n",
        "print(\"--- Treinamento do Modelo Concluído ---\\n\")\n",
        "\n",
        "# --- Plotando Métricas de Treinamento e Validação ---\n",
        "acc = history.history['acc']\n",
        "val_acc = history.history['val_acc']\n",
        "loss = history.history['loss']\n",
        "val_loss = history.history['val_loss']\n",
        "\n",
        "epochs = range(len(acc))\n",
        "\n",
        "plt.plot(epochs, acc, 'r', label=\"Acurácia de Treinamento\")\n",
        "plt.plot(epochs, val_acc, 'b', label=\"Acurácia de Validação\")\n",
        "plt.title('Acurácia de Treinamento e Validação')\n",
        "plt.xlabel('Época')\n",
        "plt.ylabel('Acurácia')\n",
        "plt.legend()\n",
        "plt.figure()\n",
        "\n",
        "plt.plot(epochs, loss, 'r', label=\"Perda de Treinamento\")\n",
        "plt.plot(epochs, val_loss, 'b', label=\"Perda de Validação\")\n",
        "plt.title('Perda de Treinamento e Validação')\n",
        "plt.xlabel('Época')\n",
        "plt.ylabel('Perda')\n",
        "plt.legend()\n",
        "plt.show()"
      ],
      "metadata": {
        "colab": {
          "base_uri": "https://localhost:8080/",
          "height": 1000
        },
        "id": "29kYdqRmL9lB",
        "outputId": "8be871da-2693-48d2-84ef-0cacb7f6eea9"
      },
      "execution_count": null,
      "outputs": [
        {
          "output_type": "stream",
          "name": "stdout",
          "text": [
            "\n",
            "--- Iniciando o Treinamento do Modelo ---\n",
            "Epoch 1/15\n",
            "\u001b[1m75/75\u001b[0m \u001b[32m━━━━━━━━━━━━━━━━━━━━\u001b[0m\u001b[37m\u001b[0m \u001b[1m36s\u001b[0m 394ms/step - acc: 0.5160 - loss: 1.2824 - val_acc: 0.5101 - val_loss: 0.7136\n",
            "Epoch 2/15\n",
            "\u001b[1m75/75\u001b[0m \u001b[32m━━━━━━━━━━━━━━━━━━━━\u001b[0m\u001b[37m\u001b[0m \u001b[1m28s\u001b[0m 318ms/step - acc: 0.6028 - loss: 0.6668 - val_acc: 0.6810 - val_loss: 0.6261\n",
            "Epoch 3/15\n",
            "\u001b[1m75/75\u001b[0m \u001b[32m━━━━━━━━━━━━━━━━━━━━\u001b[0m\u001b[37m\u001b[0m \u001b[1m28s\u001b[0m 322ms/step - acc: 0.6745 - loss: 0.6162 - val_acc: 0.6896 - val_loss: 0.6131\n",
            "Epoch 4/15\n",
            "\u001b[1m75/75\u001b[0m \u001b[32m━━━━━━━━━━━━━━━━━━━━\u001b[0m\u001b[37m\u001b[0m \u001b[1m42s\u001b[0m 337ms/step - acc: 0.7006 - loss: 0.5685 - val_acc: 0.7120 - val_loss: 0.5405\n",
            "Epoch 5/15\n",
            "\u001b[1m75/75\u001b[0m \u001b[32m━━━━━━━━━━━━━━━━━━━━\u001b[0m\u001b[37m\u001b[0m \u001b[1m29s\u001b[0m 325ms/step - acc: 0.7339 - loss: 0.5256 - val_acc: 0.7388 - val_loss: 0.5239\n",
            "Epoch 6/15\n",
            "\u001b[1m75/75\u001b[0m \u001b[32m━━━━━━━━━━━━━━━━━━━━\u001b[0m\u001b[37m\u001b[0m \u001b[1m40s\u001b[0m 325ms/step - acc: 0.7448 - loss: 0.5134 - val_acc: 0.7659 - val_loss: 0.4859\n",
            "Epoch 7/15\n",
            "\u001b[1m75/75\u001b[0m \u001b[32m━━━━━━━━━━━━━━━━━━━━\u001b[0m\u001b[37m\u001b[0m \u001b[1m42s\u001b[0m 323ms/step - acc: 0.7627 - loss: 0.4844 - val_acc: 0.7545 - val_loss: 0.4905\n",
            "Epoch 8/15\n",
            "\u001b[1m75/75\u001b[0m \u001b[32m━━━━━━━━━━━━━━━━━━━━\u001b[0m\u001b[37m\u001b[0m \u001b[1m28s\u001b[0m 325ms/step - acc: 0.7874 - loss: 0.4526 - val_acc: 0.7515 - val_loss: 0.5055\n",
            "Epoch 9/15\n",
            "\u001b[1m75/75\u001b[0m \u001b[32m━━━━━━━━━━━━━━━━━━━━\u001b[0m\u001b[37m\u001b[0m \u001b[1m28s\u001b[0m 333ms/step - acc: 0.7961 - loss: 0.4294 - val_acc: 0.7784 - val_loss: 0.4668\n",
            "Epoch 10/15\n",
            "\u001b[1m75/75\u001b[0m \u001b[32m━━━━━━━━━━━━━━━━━━━━\u001b[0m\u001b[37m\u001b[0m \u001b[1m46s\u001b[0m 389ms/step - acc: 0.8046 - loss: 0.4189 - val_acc: 0.7519 - val_loss: 0.4968\n",
            "Epoch 11/15\n",
            "\u001b[1m75/75\u001b[0m \u001b[32m━━━━━━━━━━━━━━━━━━━━\u001b[0m\u001b[37m\u001b[0m \u001b[1m35s\u001b[0m 323ms/step - acc: 0.8308 - loss: 0.3743 - val_acc: 0.7893 - val_loss: 0.4530\n",
            "Epoch 12/15\n",
            "\u001b[1m75/75\u001b[0m \u001b[32m━━━━━━━━━━━━━━━━━━━━\u001b[0m\u001b[37m\u001b[0m \u001b[1m28s\u001b[0m 332ms/step - acc: 0.8343 - loss: 0.3642 - val_acc: 0.7242 - val_loss: 0.5610\n",
            "Epoch 13/15\n",
            "\u001b[1m75/75\u001b[0m \u001b[32m━━━━━━━━━━━━━━━━━━━━\u001b[0m\u001b[37m\u001b[0m \u001b[1m46s\u001b[0m 389ms/step - acc: 0.8500 - loss: 0.3454 - val_acc: 0.7330 - val_loss: 0.6461\n",
            "Epoch 14/15\n",
            "\u001b[1m75/75\u001b[0m \u001b[32m━━━━━━━━━━━━━━━━━━━━\u001b[0m\u001b[37m\u001b[0m \u001b[1m33s\u001b[0m 389ms/step - acc: 0.8572 - loss: 0.3357 - val_acc: 0.7943 - val_loss: 0.4665\n",
            "Epoch 15/15\n",
            "\u001b[1m75/75\u001b[0m \u001b[32m━━━━━━━━━━━━━━━━━━━━\u001b[0m\u001b[37m\u001b[0m \u001b[1m36s\u001b[0m 332ms/step - acc: 0.8878 - loss: 0.2682 - val_acc: 0.7896 - val_loss: 0.5042\n",
            "--- Treinamento do Modelo Concluído ---\n",
            "\n"
          ]
        },
        {
          "output_type": "display_data",
          "data": {
            "text/plain": [
              "<Figure size 640x480 with 1 Axes>"
            ],
            "image/png": "[encoded data removed]"
          },
          "metadata": {}
        },
        {
          "output_type": "display_data",
          "data": {
            "text/plain": [
              "<Figure size 640x480 with 1 Axes>"
            ],
            "image/png": "[encoded data removed]"
          },
          "metadata": {}
        }
      ]
    },
    {
      "cell_type": "code",
      "source": [
        "model.save('cats_vs_dogs_model.h5')"
      ],
      "metadata": {
        "colab": {
          "base_uri": "https://localhost:8080/"
        },
        "id": "zxHNNtp_MYog",
        "outputId": "6531114e-532d-4539-9ab3-e8201cf9cb1c"
      },
      "execution_count": null,
      "outputs": [
        {
          "output_type": "stream",
          "name": "stderr",
          "text": [
            "WARNING:absl:You are saving your model as an HDF5 file via `model.save()` or `keras.saving.save_model(model)`. This file format is considered legacy. We recommend using instead the native Keras format, e.g. `model.save('my_model.keras')` or `keras.saving.save_model(model, 'my_model.keras')`. \n"
          ]
        }
      ]
    },
    {
      "cell_type": "code",
      "source": [
        "# --- Classificação de Imagem (para Google Colab) ---\n",
        "print(\"\\n--- Seção de Classificação de Imagens ---\")\n",
        "from keras.preprocessing import image\n",
        "\n",
        "uploaded = files.upload()\n",
        "\n",
        "for fn in uploaded.keys():\n",
        "    path = '/content/' + fn\n",
        "    img = image.load_img(path, target_size=(150, 150))\n",
        "    x = image.img_to_array(img)\n",
        "    x = np.expand_dims(x, axis=0)\n",
        "\n",
        "    images = np.vstack([x])\n",
        "    classes = model.predict(images, batch_size=10)\n",
        "    print(classes[0])\n",
        "    if classes[0] > 0.5:\n",
        "        print(fn + \" é um cachorro\")\n",
        "    else:\n",
        "        print(fn + \" é um gato\")"
      ],
      "metadata": {
        "colab": {
          "base_uri": "https://localhost:8080/",
          "height": 158
        },
        "id": "Sv5uBmE9DQCQ",
        "outputId": "fe19d812-41b2-4a27-ce36-f91d1fd4b4e9"
      },
      "execution_count": null,
      "outputs": [
        {
          "output_type": "stream",
          "name": "stdout",
          "text": [
            "\n",
            "--- Seção de Classificação de Imagens ---\n"
          ]
        },
        {
          "output_type": "display_data",
          "data": {
            "text/plain": [
              "<IPython.core.display.HTML object>"
            ],
            "text/html": [
              "\n",
              "     <input type=\"file\" id=\"files-2043aab0-d4ab-4d92-8f6f-eaf40eadf043\" name=\"files[]\" multiple disabled\n",
              "        style=\"border:none\" />\n",
              "     <output id=\"result-2043aab0-d4ab-4d92-8f6f-eaf40eadf043\">\n",
              "      Upload widget is only available when the cell has been executed in the\n",
              "      current browser session. Please rerun this cell to enable.\n",
              "      </output>\n",
              "      <script>// Copyright 2017 Google LLC\n",
              "//\n",
              "// Licensed under the Apache License, Version 2.0 (the \"License\");\n",
              "// you may not use this file except in compliance with the License.\n",
              "// You may obtain a copy of the License at\n",
              "//\n",
              "//      http://www.apache.org/licenses/LICENSE-2.0\n",
              "//\n",
              "// Unless required by applicable law or agreed to in writing, software\n",
              "// distributed under the License is distributed on an \"AS IS\" BASIS,\n",
              "// WITHOUT WARRANTIES OR CONDITIONS OF ANY KIND, either express or implied.\n",
              "// See the License for the specific language governing permissions and\n",
              "// limitations under the License.\n",
              "\n",
              "/**\n",
              " * @fileoverview Helpers for google.colab Python module.\n",
              " */\n",
              "(function(scope) {\n",
              "function span(text, styleAttributes = {}) {\n",
              "  const element = document.createElement('span');\n",
              "  element.textContent = text;\n",
              "  for (const key of Object.keys(styleAttributes)) {\n",
              "    element.style[key] = styleAttributes[key];\n",
              "  }\n",
              "  return element;\n",
              "}\n",
              "\n",
              "// Max number of bytes which will be uploaded at a time.\n",
              "const MAX_PAYLOAD_SIZE = 100 * 1024;\n",
              "\n",
              "function _uploadFiles(inputId, outputId) {\n",
              "  const steps = uploadFilesStep(inputId, outputId);\n",
              "  const outputElement = document.getElementById(outputId);\n",
              "  // Cache steps on the outputElement to make it available for the next call\n",
              "  // to uploadFilesContinue from Python.\n",
              "  outputElement.steps = steps;\n",
              "\n",
              "  return _uploadFilesContinue(outputId);\n",
              "}\n",
              "\n",
              "// This is roughly an async generator (not supported in the browser yet),\n",
              "// where there are multiple asynchronous steps and the Python side is going\n",
              "// to poll for completion of each step.\n",
              "// This uses a Promise to block the python side on completion of each step,\n",
              "// then passes the result of the previous step as the input to the next step.\n",
              "function _uploadFilesContinue(outputId) {\n",
              "  const outputElement = document.getElementById(outputId);\n",
              "  const steps = outputElement.steps;\n",
              "\n",
              "  const next = steps.next(outputElement.lastPromiseValue);\n",
              "  return Promise.resolve(next.value.promise).then((value) => {\n",
              "    // Cache the last promise value to make it available to the next\n",
              "    // step of the generator.\n",
              "    outputElement.lastPromiseValue = value;\n",
              "    return next.value.response;\n",
              "  });\n",
              "}\n",
              "\n",
              "/**\n",
              " * Generator function which is called between each async step of the upload\n",
              " * process.\n",
              " * @param {string} inputId Element ID of the input file picker element.\n",
              " * @param {string} outputId Element ID of the output display.\n",
              " * @return {!Iterable<!Object>} Iterable of next steps.\n",
              " */\n",
              "function* uploadFilesStep(inputId, outputId) {\n",
              "  const inputElement = document.getElementById(inputId);\n",
              "  inputElement.disabled = false;\n",
              "\n",
              "  const outputElement = document.getElementById(outputId);\n",
              "  outputElement.innerHTML = '';\n",
              "\n",
              "  const pickedPromise = new Promise((resolve) => {\n",
              "    inputElement.addEventListener('change', (e) => {\n",
              "      resolve(e.target.files);\n",
              "    });\n",
              "  });\n",
              "\n",
              "  const cancel = document.createElement('button');\n",
              "  inputElement.parentElement.appendChild(cancel);\n",
              "  cancel.textContent = 'Cancel upload';\n",
              "  const cancelPromise = new Promise((resolve) => {\n",
              "    cancel.onclick = () => {\n",
              "      resolve(null);\n",
              "    };\n",
              "  });\n",
              "\n",
              "  // Wait for the user to pick the files.\n",
              "  const files = yield {\n",
              "    promise: Promise.race([pickedPromise, cancelPromise]),\n",
              "    response: {\n",
              "      action: 'starting',\n",
              "    }\n",
              "  };\n",
              "\n",
              "  cancel.remove();\n",
              "\n",
              "  // Disable the input element since further picks are not allowed.\n",
              "  inputElement.disabled = true;\n",
              "\n",
              "  if (!files) {\n",
              "    return {\n",
              "      response: {\n",
              "        action: 'complete',\n",
              "      }\n",
              "    };\n",
              "  }\n",
              "\n",
              "  for (const file of files) {\n",
              "    const li = document.createElement('li');\n",
              "    li.append(span(file.name, {fontWeight: 'bold'}));\n",
              "    li.append(span(\n",
              "        `(${file.type || 'n/a'}) - ${file.size} bytes, ` +\n",
              "        `last modified: ${\n",
              "            file.lastModifiedDate ? file.lastModifiedDate.toLocaleDateString() :\n",
              "                                    'n/a'} - `));\n",
              "    const percent = span('0% done');\n",
              "    li.appendChild(percent);\n",
              "\n",
              "    outputElement.appendChild(li);\n",
              "\n",
              "    const fileDataPromise = new Promise((resolve) => {\n",
              "      const reader = new FileReader();\n",
              "      reader.onload = (e) => {\n",
              "        resolve(e.target.result);\n",
              "      };\n",
              "      reader.readAsArrayBuffer(file);\n",
              "    });\n",
              "    // Wait for the data to be ready.\n",
              "    let fileData = yield {\n",
              "      promise: fileDataPromise,\n",
              "      response: {\n",
              "        action: 'continue',\n",
              "      }\n",
              "    };\n",
              "\n",
              "    // Use a chunked sending to avoid message size limits. See b/62115660.\n",
              "    let position = 0;\n",
              "    do {\n",
              "      const length = Math.min(fileData.byteLength - position, MAX_PAYLOAD_SIZE);\n",
              "      const chunk = new Uint8Array(fileData, position, length);\n",
              "      position += length;\n",
              "\n",
              "      const base64 = btoa(String.fromCharCode.apply(null, chunk));\n",
              "      yield {\n",
              "        response: {\n",
              "          action: 'append',\n",
              "          file: file.name,\n",
              "          data: base64,\n",
              "        },\n",
              "      };\n",
              "\n",
              "      let percentDone = fileData.byteLength === 0 ?\n",
              "          100 :\n",
              "          Math.round((position / fileData.byteLength) * 100);\n",
              "      percent.textContent = `${percentDone}% done`;\n",
              "\n",
              "    } while (position < fileData.byteLength);\n",
              "  }\n",
              "\n",
              "  // All done.\n",
              "  yield {\n",
              "    response: {\n",
              "      action: 'complete',\n",
              "    }\n",
              "  };\n",
              "}\n",
              "\n",
              "scope.google = scope.google || {};\n",
              "scope.google.colab = scope.google.colab || {};\n",
              "scope.google.colab._files = {\n",
              "  _uploadFiles,\n",
              "  _uploadFilesContinue,\n",
              "};\n",
              "})(self);\n",
              "</script> "
            ]
          },
          "metadata": {}
        },
        {
          "output_type": "stream",
          "name": "stdout",
          "text": [
            "Saving R.jpeg to R (1).jpeg\n",
            "\u001b[1m1/1\u001b[0m \u001b[32m━━━━━━━━━━━━━━━━━━━━\u001b[0m\u001b[37m\u001b[0m \u001b[1m0s\u001b[0m 289ms/step\n",
            "[0.]\n",
            "R (1).jpeg é um gato\n"
          ]
        }
      ]
    },
    {
      "cell_type": "code",
      "source": [
        "import tensorflow as tf\n",
        "import tensorflow_datasets as tfds\n",
        "from tensorflow.keras.optimizers import RMSprop\n",
        "from tensorflow.keras.preprocessing.image import ImageDataGenerator\n",
        "import matplotlib.pyplot as plt\n",
        "import numpy as np\n",
        "import os\n",
        "import shutil\n",
        "from google.colab import files\n",
        "from keras.preprocessing import image\n",
        "\n",
        "# --- 1. Preparação dos Dados ---\n",
        "CAT_DATA_DIR = '/tmp/my_cats_dataset'\n",
        "CAT_TRAIN_DIR = os.path.join(CAT_DATA_DIR, 'train', 'cats')\n",
        "CAT_VAL_DIR = os.path.join(CAT_DATA_DIR, 'validation', 'cats')\n",
        "\n",
        "os.makedirs(CAT_TRAIN_DIR, exist_ok=True)\n",
        "os.makedirs(CAT_VAL_DIR, exist_ok=True)\n",
        "\n",
        "print(\"Baixando e preparando o dataset Stanford Dogs...\")\n",
        "(ds_dogs_full,), ds_info_dogs = tfds.load(\n",
        "    'stanford_dogs',\n",
        "    split=['train'],\n",
        "    shuffle_files=True,\n",
        "    as_supervised=True,\n",
        "    with_info=True,\n",
        "    data_dir='/tmp/tensorflow_datasets'\n",
        ")\n",
        "print(\"Dataset Stanford Dogs pronto!\")\n",
        "\n",
        "num_dog_breeds = ds_info_dogs.features['label'].num_classes\n",
        "print(f\"Número de raças de cães no Stanford Dogs: {num_dog_breeds}\")\n",
        "\n",
        "num_total_dogs = ds_info_dogs.splits['train'].num_examples\n",
        "val_split_ratio = 0.2\n",
        "num_val_dogs = int(num_total_dogs * val_split_ratio)\n",
        "\n",
        "ds_dogs_train_raw = ds_dogs_full.skip(num_val_dogs)\n",
        "ds_dogs_val_raw = ds_dogs_full.take(num_val_dogs)\n",
        "\n",
        "IMG_SIZE = (150, 150)\n",
        "BATCH_SIZE = 32\n",
        "\n",
        "def preprocess_dogs(image, label):\n",
        "    image = tf.image.resize(image, IMG_SIZE)\n",
        "    image = tf.cast(image, tf.float32) / 255.0\n",
        "    return image, label\n",
        "\n",
        "train_datagen_cats = ImageDataGenerator(rescale=1./255)\n",
        "val_datagen_cats = ImageDataGenerator(rescale=1./255)\n",
        "\n",
        "print(\"Carregando imagens de gatos...\")\n",
        "try:\n",
        "    train_generator_cats_single = train_datagen_cats.flow_from_directory(\n",
        "        os.path.join(CAT_DATA_DIR, 'train'),\n",
        "        target_size=IMG_SIZE,\n",
        "        batch_size=1,\n",
        "        class_mode='categorical',\n",
        "        classes=['cats'],\n",
        "        shuffle=True\n",
        "    )\n",
        "    val_generator_cats_single = val_datagen_cats.flow_from_directory(\n",
        "        os.path.join(CAT_DATA_DIR, 'validation'),\n",
        "        target_size=IMG_SIZE,\n",
        "        batch_size=1,\n",
        "        class_mode='categorical',\n",
        "        classes=['cats'],\n",
        "        shuffle=False\n",
        "    )\n",
        "    num_cats_train = train_generator_cats_single.samples\n",
        "    num_cats_val = val_generator_cats_single.samples\n",
        "    print(f\"Encontradas {num_cats_train} imagens de gatos para treinamento.\")\n",
        "    print(f\"Encontradas {num_cats_val} imagens de gatos para validação.\")\n",
        "\n",
        "except Exception as e:\n",
        "    print(f\"AVISO: Não foi possível carregar imagens de gatos do diretório. Erro: {e}\")\n",
        "    print(\"Por favor, certifique-se de que '/tmp/my_cats_dataset/train/cats' e \"\n",
        "          \"'/tmp/my_cats_dataset/validation/cats' contenham imagens de gatos.\")\n",
        "    num_cats_train = 0\n",
        "    num_cats_val = 0\n",
        "    train_generator_cats_single = None\n",
        "    val_generator_cats_single = None\n",
        "\n",
        "\n",
        "def preprocess_cats_for_dataset(image_batch, label_one_hot_batch):\n",
        "    image = tf.squeeze(image_batch, axis=0)\n",
        "    label_one_hot = tf.squeeze(label_one_hot_batch, axis=0)\n",
        "    return image, tf.constant(num_dog_breeds, dtype=tf.int64)\n",
        "\n",
        "\n",
        "ds_dogs_train_processed = ds_dogs_train_raw.map(preprocess_dogs, num_parallel_calls=tf.data.AUTOTUNE)\n",
        "ds_dogs_val_processed = ds_dogs_val_raw.map(preprocess_dogs, num_parallel_calls=tf.data.AUTOTUNE)\n",
        "\n",
        "\n",
        "if num_cats_train > 0 and train_generator_cats_single is not None:\n",
        "    ds_cats_train_processed = tf.data.Dataset.from_generator(\n",
        "        lambda: (preprocess_cats_for_dataset(*next(train_generator_cats_single)) for _ in range(num_cats_train)),\n",
        "        output_signature=(\n",
        "            tf.TensorSpec(shape=(IMG_SIZE[0], IMG_SIZE[1], 3), dtype=tf.float32),\n",
        "            tf.TensorSpec(shape=(), dtype=tf.int64)\n",
        "        )\n",
        "    )\n",
        "else:\n",
        "    ds_cats_train_processed = tf.data.Dataset.from_tensor_slices(\n",
        "        (tf.zeros((0, *IMG_SIZE, 3), dtype=tf.float32), tf.zeros((0,), dtype=tf.int64))\n",
        "    )\n",
        "\n",
        "if num_cats_val > 0 and val_generator_cats_single is not None:\n",
        "    ds_cats_val_processed = tf.data.Dataset.from_generator(\n",
        "        lambda: (preprocess_cats_for_dataset(*next(val_generator_cats_single)) for _ in range(num_cats_val)),\n",
        "        output_signature=(\n",
        "            tf.TensorSpec(shape=(IMG_SIZE[0], IMG_SIZE[1], 3), dtype=tf.float32),\n",
        "            tf.TensorSpec(shape=(), dtype=tf.int64)\n",
        "        )\n",
        "    )\n",
        "else:\n",
        "    ds_cats_val_processed = tf.data.Dataset.from_tensor_slices(\n",
        "        (tf.zeros((0, *IMG_SIZE, 3), dtype=tf.float32), tf.zeros((0,), dtype=tf.int64))\n",
        "    )\n",
        "\n",
        "ds_train = ds_dogs_train_processed.concatenate(ds_cats_train_processed) \\\n",
        "               .shuffle(buffer_size=1000) \\\n",
        "               .batch(BATCH_SIZE) \\\n",
        "               .prefetch(tf.data.AUTOTUNE)\n",
        "\n",
        "ds_val = ds_dogs_val_processed.concatenate(ds_cats_val_processed) \\\n",
        "             .shuffle(buffer_size=1000) \\\n",
        "             .batch(BATCH_SIZE) \\\n",
        "             .prefetch(tf.data.AUTOTUNE)\n",
        "\n",
        "num_total_classes = num_dog_breeds + 1\n",
        "print(f\"Total de classes para classificação: {num_total_classes} (0-{num_dog_breeds-1} para cães, {num_dog_breeds} para gatos)\")\n",
        "\n",
        "\n",
        "# --- 2. Construção do Modelo com Transfer Learning ---\n",
        "base_model = tf.keras.applications.MobileNetV2(\n",
        "    input_shape=(IMG_SIZE[0], IMG_SIZE[1], 3),\n",
        "    include_top=False,\n",
        "    weights='imagenet'\n",
        ")\n",
        "base_model.trainable = False\n",
        "\n",
        "model = tf.keras.models.Sequential([\n",
        "    base_model,\n",
        "    tf.keras.layers.GlobalAveragePooling2D(),\n",
        "    tf.keras.layers.Dense(num_total_classes, activation='softmax')\n",
        "])\n",
        "\n",
        "model.compile(optimizer=RMSprop(learning_rate=0.0001),\n",
        "              loss='sparse_categorical_crossentropy',\n",
        "              metrics=['accuracy'])\n",
        "\n",
        "model.summary()\n",
        "\n",
        "# --- 3. Treinamento do Modelo (Fase 1: Feature Extraction) ---\n",
        "print(\"\\n--- Iniciando o Treinamento do Modelo (Fase 1: Feature Extraction) ---\")\n",
        "initial_epochs = 10\n",
        "history = model.fit(\n",
        "    ds_train,\n",
        "    epochs=initial_epochs,\n",
        "    validation_data=ds_val\n",
        ")\n",
        "print(\"--- Treinamento do Modelo (Fase 1) Concluído ---\\n\")\n",
        "\n",
        "# --- 4. Ajuste Fino (Fine-tuning) - Opcional, mas Recomendado ---\n",
        "print(\"\\n--- Iniciando o Ajuste Fino (Fase 2: Fine-tuning) ---\")\n",
        "\n",
        "base_model.trainable = True\n",
        "for layer in base_model.layers[:100]:\n",
        "    layer.trainable = False\n",
        "\n",
        "model.compile(optimizer=tf.keras.optimizers.RMSprop(learning_rate=0.00001),\n",
        "              loss='sparse_categorical_crossentropy',\n",
        "              metrics=['accuracy'])\n",
        "\n",
        "model.summary()\n",
        "\n",
        "fine_tune_epochs = 10\n",
        "total_epochs = initial_epochs + fine_tune_epochs\n",
        "\n",
        "history_fine_tune = model.fit(\n",
        "    ds_train,\n",
        "    epochs=total_epochs,\n",
        "    initial_epoch=history.epoch[-1],\n",
        "    validation_data=ds_val\n",
        ")\n",
        "print(\"--- Ajuste Fino (Fase 2) Concluído ---\\n\")\n",
        "\n",
        "# --- 5. Salvar o Modelo ---\n",
        "model_save_path = 'dog_breeds_and_cats_classifier.h5'\n",
        "model.save(model_save_path)\n",
        "print(f\"Modelo salvo em: {model_save_path}\")\n",
        "\n",
        "# --- 6. Plotando Métricas de Treinamento e Validação ---\n",
        "\n",
        "acc = history.history['accuracy'] + history_fine_tune.history['accuracy']\n",
        "val_acc = history.history['val_accuracy'] + history_fine_tune.history['val_accuracy']\n",
        "loss = history.history['loss'] + history_fine_tune.history['loss']\n",
        "val_loss = history.history['val_loss'] + history_fine_tune.history['val_loss']\n",
        "\n",
        "# The definitive fix: Ensure all lists are exactly the same length as 'epochs'\n",
        "# Create the epochs list first based on what we expect the total number of epochs to be.\n",
        "epochs_plot = list(range(total_epochs)) # This is the target length\n",
        "\n",
        "# Now, trim all history lists to match this target length\n",
        "# This is the crucial part that ensures consistent lengths\n",
        "# It's possible for Keras history to sometimes record an extra step if a batch\n",
        "# or validation step is completed just as an epoch ends.\n",
        "# We'll explicitly truncate to the expected total_epochs.\n",
        "\n",
        "if len(acc) > total_epochs:\n",
        "    acc = acc[:total_epochs]\n",
        "if len(val_acc) > total_epochs:\n",
        "    val_acc = val_acc[:total_epochs]\n",
        "if len(loss) > total_epochs:\n",
        "    loss = loss[:total_epochs]\n",
        "if len(val_loss) > total_epochs:\n",
        "    val_loss = val_loss[:total_epochs]\n",
        "\n",
        "# Print lengths to confirm after trimming\n",
        "print(f\"Length of acc (after trim): {len(acc)}\")\n",
        "print(f\"Length of val_acc (after trim): {len(val_acc)}\")\n",
        "print(f\"Length of loss (after trim): {len(loss)}\")\n",
        "print(f\"Length of val_loss (after trim): {len(val_loss)}\")\n",
        "print(f\"Length of epochs_plot: {len(epochs_plot)}\") # This should be total_epochs\n",
        "\n",
        "# Plotting\n",
        "plt.figure(figsize=(12, 5))\n",
        "\n",
        "plt.subplot(1, 2, 1)\n",
        "plt.plot(epochs_plot, acc, 'r', label=\"Acurácia de Treinamento\")\n",
        "plt.plot(epochs_plot, val_acc, 'b', label=\"Acurácia de Validação\")\n",
        "plt.title('Acurácia de Treinamento e Validação')\n",
        "plt.xlabel('Época')\n",
        "plt.ylabel('Acurácia')\n",
        "plt.legend()\n",
        "\n",
        "plt.subplot(1, 2, 2)\n",
        "plt.plot(epochs_plot, loss, 'r', label=\"Perda de Treinamento\")\n",
        "plt.plot(epochs_plot, val_loss, 'b', label=\"Perda de Validação\")\n",
        "plt.title('Perda de Treinamento e Validação')\n",
        "plt.xlabel('Época')\n",
        "plt.ylabel('Perda')\n",
        "plt.legend()\n",
        "\n",
        "plt.tight_layout()\n",
        "plt.show()\n",
        "\n",
        "# --- 7. Classificação de Imagem (for Google Colab) ---\n",
        "print(\"\\n--- Seção de Classificação de Imagens ---\")\n",
        "\n",
        "class_names_dogs = ds_info_dogs.features['label'].names\n",
        "all_class_names = class_names_dogs + ['gato']\n",
        "\n",
        "uploaded = files.upload()\n",
        "\n",
        "for fn in uploaded.keys():\n",
        "    path = '/content/' + fn\n",
        "    img = image.load_img(path, target_size=(IMG_SIZE[0], IMG_SIZE[1]))\n",
        "    x = image.img_to_array(img)\n",
        "    x = np.expand_dims(x, axis=0)\n",
        "    x = tf.keras.applications.mobilenet_v2.preprocess_input(x)\n",
        "\n",
        "    predictions = model.predict(x)\n",
        "    predicted_class_idx = np.argmax(predictions[0])\n",
        "    confidence = np.max(predictions[0])\n",
        "\n",
        "    predicted_label = all_class_names[predicted_class_idx]\n",
        "\n",
        "    print(f\"\\nImagem: {fn}\")\n",
        "    print(f\"Predição: {predicted_label} (Confiança: {confidence:.2f})\")\n",
        "\n",
        "# Limpar diretório dummy de gatos\n",
        "try:\n",
        "    shutil.rmtree(CAT_DATA_DIR)\n",
        "    print(f\"\\nDiretório de gatos dummy '{CAT_DATA_DIR}' removido.\")\n",
        "except OSError as e:\n",
        "    print(f\"Erro ao remover o diretório dummy: {e}\")"
      ],
      "metadata": {
        "colab": {
          "base_uri": "https://localhost:8080/",
          "height": 1000
        },
        "id": "nensbkBQOS4F",
        "outputId": "f2de4396-a3bb-4c18-95af-0962d7511384"
      },
      "execution_count": null,
      "outputs": [
        {
          "output_type": "stream",
          "name": "stdout",
          "text": [
            "Baixando e preparando o dataset Stanford Dogs...\n",
            "Dataset Stanford Dogs pronto!\n",
            "Número de raças de cães no Stanford Dogs: 120\n",
            "Carregando imagens de gatos...\n",
            "Found 0 images belonging to 1 classes.\n",
            "Found 0 images belonging to 1 classes.\n",
            "Encontradas 0 imagens de gatos para treinamento.\n",
            "Encontradas 0 imagens de gatos para validação.\n",
            "Total de classes para classificação: 121 (0-119 para cães, 120 para gatos)\n"
          ]
        },
        {
          "output_type": "stream",
          "name": "stderr",
          "text": [
            "/tmp/ipython-input-20-1078921617.py:151: UserWarning: `input_shape` is undefined or non-square, or `rows` is not in [96, 128, 160, 192, 224]. Weights for input shape (224, 224) will be loaded as the default.\n",
            "  base_model = tf.keras.applications.MobileNetV2(\n"
          ]
        },
        {
          "output_type": "display_data",
          "data": {
            "text/plain": [
              "\u001b[1mModel: \"sequential_11\"\u001b[0m\n"
            ],
            "text/html": [
              "<pre style=\"white-space:pre;overflow-x:auto;line-height:normal;font-family:Menlo,'DejaVu Sans Mono',consolas,'Courier New',monospace\"><span style=\"font-weight: bold\">Model: \"sequential_11\"</span>\n",
              "</pre>\n"
            ]
          },
          "metadata": {}
        },
        {
          "output_type": "display_data",
          "data": {
            "text/plain": [
              "┏━━━━━━━━━━━━━━━━━━━━━━━━━━━━━━━━━┳━━━━━━━━━━━━━━━━━━━━━━━━┳━━━━━━━━━━━━━━━┓\n",
              "┃\u001b[1m \u001b[0m\u001b[1mLayer (type)                   \u001b[0m\u001b[1m \u001b[0m┃\u001b[1m \u001b[0m\u001b[1mOutput Shape          \u001b[0m\u001b[1m \u001b[0m┃\u001b[1m \u001b[0m\u001b[1m      Param #\u001b[0m\u001b[1m \u001b[0m┃\n",
              "┡━━━━━━━━━━━━━━━━━━━━━━━━━━━━━━━━━╇━━━━━━━━━━━━━━━━━━━━━━━━╇━━━━━━━━━━━━━━━┩\n",
              "│ mobilenetv2_1.00_224            │ (\u001b[38;5;45mNone\u001b[0m, \u001b[38;5;34m5\u001b[0m, \u001b[38;5;34m5\u001b[0m, \u001b[38;5;34m1280\u001b[0m)     │     \u001b[38;5;34m2,257,984\u001b[0m │\n",
              "│ (\u001b[38;5;33mFunctional\u001b[0m)                    │                        │               │\n",
              "├─────────────────────────────────┼────────────────────────┼───────────────┤\n",
              "│ global_average_pooling2d_5      │ (\u001b[38;5;45mNone\u001b[0m, \u001b[38;5;34m1280\u001b[0m)           │             \u001b[38;5;34m0\u001b[0m │\n",
              "│ (\u001b[38;5;33mGlobalAveragePooling2D\u001b[0m)        │                        │               │\n",
              "├─────────────────────────────────┼────────────────────────┼───────────────┤\n",
              "│ dense_17 (\u001b[38;5;33mDense\u001b[0m)                │ (\u001b[38;5;45mNone\u001b[0m, \u001b[38;5;34m121\u001b[0m)            │       \u001b[38;5;34m155,001\u001b[0m │\n",
              "└─────────────────────────────────┴────────────────────────┴───────────────┘\n"
            ],
            "text/html": [
              "<pre style=\"white-space:pre;overflow-x:auto;line-height:normal;font-family:Menlo,'DejaVu Sans Mono',consolas,'Courier New',monospace\">┏━━━━━━━━━━━━━━━━━━━━━━━━━━━━━━━━━┳━━━━━━━━━━━━━━━━━━━━━━━━┳━━━━━━━━━━━━━━━┓\n",
              "┃<span style=\"font-weight: bold\"> Layer (type)                    </span>┃<span style=\"font-weight: bold\"> Output Shape           </span>┃<span style=\"font-weight: bold\">       Param # </span>┃\n",
              "┡━━━━━━━━━━━━━━━━━━━━━━━━━━━━━━━━━╇━━━━━━━━━━━━━━━━━━━━━━━━╇━━━━━━━━━━━━━━━┩\n",
              "│ mobilenetv2_1.00_224            │ (<span style=\"color: #00d7ff; text-decoration-color: #00d7ff\">None</span>, <span style=\"color: #00af00; text-decoration-color: #00af00\">5</span>, <span style=\"color: #00af00; text-decoration-color: #00af00\">5</span>, <span style=\"color: #00af00; text-decoration-color: #00af00\">1280</span>)     │     <span style=\"color: #00af00; text-decoration-color: #00af00\">2,257,984</span> │\n",
              "│ (<span style=\"color: #0087ff; text-decoration-color: #0087ff\">Functional</span>)                    │                        │               │\n",
              "├─────────────────────────────────┼────────────────────────┼───────────────┤\n",
              "│ global_average_pooling2d_5      │ (<span style=\"color: #00d7ff; text-decoration-color: #00d7ff\">None</span>, <span style=\"color: #00af00; text-decoration-color: #00af00\">1280</span>)           │             <span style=\"color: #00af00; text-decoration-color: #00af00\">0</span> │\n",
              "│ (<span style=\"color: #0087ff; text-decoration-color: #0087ff\">GlobalAveragePooling2D</span>)        │                        │               │\n",
              "├─────────────────────────────────┼────────────────────────┼───────────────┤\n",
              "│ dense_17 (<span style=\"color: #0087ff; text-decoration-color: #0087ff\">Dense</span>)                │ (<span style=\"color: #00d7ff; text-decoration-color: #00d7ff\">None</span>, <span style=\"color: #00af00; text-decoration-color: #00af00\">121</span>)            │       <span style=\"color: #00af00; text-decoration-color: #00af00\">155,001</span> │\n",
              "└─────────────────────────────────┴────────────────────────┴───────────────┘\n",
              "</pre>\n"
            ]
          },
          "metadata": {}
        },
        {
          "output_type": "display_data",
          "data": {
            "text/plain": [
              "\u001b[1m Total params: \u001b[0m\u001b[38;5;34m2,412,985\u001b[0m (9.20 MB)\n"
            ],
            "text/html": [
              "<pre style=\"white-space:pre;overflow-x:auto;line-height:normal;font-family:Menlo,'DejaVu Sans Mono',consolas,'Courier New',monospace\"><span style=\"font-weight: bold\"> Total params: </span><span style=\"color: #00af00; text-decoration-color: #00af00\">2,412,985</span> (9.20 MB)\n",
              "</pre>\n"
            ]
          },
          "metadata": {}
        },
        {
          "output_type": "display_data",
          "data": {
            "text/plain": [
              "\u001b[1m Trainable params: \u001b[0m\u001b[38;5;34m155,001\u001b[0m (605.47 KB)\n"
            ],
            "text/html": [
              "<pre style=\"white-space:pre;overflow-x:auto;line-height:normal;font-family:Menlo,'DejaVu Sans Mono',consolas,'Courier New',monospace\"><span style=\"font-weight: bold\"> Trainable params: </span><span style=\"color: #00af00; text-decoration-color: #00af00\">155,001</span> (605.47 KB)\n",
              "</pre>\n"
            ]
          },
          "metadata": {}
        },
        {
          "output_type": "display_data",
          "data": {
            "text/plain": [
              "\u001b[1m Non-trainable params: \u001b[0m\u001b[38;5;34m2,257,984\u001b[0m (8.61 MB)\n"
            ],
            "text/html": [
              "<pre style=\"white-space:pre;overflow-x:auto;line-height:normal;font-family:Menlo,'DejaVu Sans Mono',consolas,'Courier New',monospace\"><span style=\"font-weight: bold\"> Non-trainable params: </span><span style=\"color: #00af00; text-decoration-color: #00af00\">2,257,984</span> (8.61 MB)\n",
              "</pre>\n"
            ]
          },
          "metadata": {}
        },
        {
          "output_type": "stream",
          "name": "stdout",
          "text": [
            "\n",
            "--- Iniciando o Treinamento do Modelo (Fase 1: Feature Extraction) ---\n",
            "Epoch 1/10\n",
            "\u001b[1m300/300\u001b[0m \u001b[32m━━━━━━━━━━━━━━━━━━━━\u001b[0m\u001b[37m\u001b[0m \u001b[1m28s\u001b[0m 60ms/step - accuracy: 0.0618 - loss: 4.7654 - val_accuracy: 0.3013 - val_loss: 2.8693\n",
            "Epoch 2/10\n",
            "\u001b[1m300/300\u001b[0m \u001b[32m━━━━━━━━━━━━━━━━━━━━\u001b[0m\u001b[37m\u001b[0m \u001b[1m36s\u001b[0m 51ms/step - accuracy: 0.3699 - loss: 2.4777 - val_accuracy: 0.4517 - val_loss: 2.0664\n",
            "Epoch 3/10\n",
            "\u001b[1m300/300\u001b[0m \u001b[32m━━━━━━━━━━━━━━━━━━━━\u001b[0m\u001b[37m\u001b[0m \u001b[1m18s\u001b[0m 51ms/step - accuracy: 0.5201 - loss: 1.7820 - val_accuracy: 0.5133 - val_loss: 1.7837\n",
            "Epoch 4/10\n",
            "\u001b[1m300/300\u001b[0m \u001b[32m━━━━━━━━━━━━━━━━━━━━\u001b[0m\u001b[37m\u001b[0m \u001b[1m20s\u001b[0m 51ms/step - accuracy: 0.5849 - loss: 1.4792 - val_accuracy: 0.5383 - val_loss: 1.6552\n",
            "Epoch 5/10\n",
            "\u001b[1m300/300\u001b[0m \u001b[32m━━━━━━━━━━━━━━━━━━━━\u001b[0m\u001b[37m\u001b[0m \u001b[1m19s\u001b[0m 55ms/step - accuracy: 0.6167 - loss: 1.3215 - val_accuracy: 0.5529 - val_loss: 1.5759\n",
            "Epoch 6/10\n",
            "\u001b[1m300/300\u001b[0m \u001b[32m━━━━━━━━━━━━━━━━━━━━\u001b[0m\u001b[37m\u001b[0m \u001b[1m18s\u001b[0m 50ms/step - accuracy: 0.6516 - loss: 1.2062 - val_accuracy: 0.5612 - val_loss: 1.5430\n",
            "Epoch 7/10\n",
            "\u001b[1m300/300\u001b[0m \u001b[32m━━━━━━━━━━━━━━━━━━━━\u001b[0m\u001b[37m\u001b[0m \u001b[1m19s\u001b[0m 54ms/step - accuracy: 0.6736 - loss: 1.1342 - val_accuracy: 0.5742 - val_loss: 1.5147\n",
            "Epoch 8/10\n",
            "\u001b[1m300/300\u001b[0m \u001b[32m━━━━━━━━━━━━━━━━━━━━\u001b[0m\u001b[37m\u001b[0m \u001b[1m20s\u001b[0m 52ms/step - accuracy: 0.6930 - loss: 1.0644 - val_accuracy: 0.5783 - val_loss: 1.4919\n",
            "Epoch 9/10\n",
            "\u001b[1m300/300\u001b[0m \u001b[32m━━━━━━━━━━━━━━━━━━━━\u001b[0m\u001b[37m\u001b[0m \u001b[1m19s\u001b[0m 50ms/step - accuracy: 0.7084 - loss: 1.0142 - val_accuracy: 0.5838 - val_loss: 1.4803\n",
            "Epoch 10/10\n",
            "\u001b[1m300/300\u001b[0m \u001b[32m━━━━━━━━━━━━━━━━━━━━\u001b[0m\u001b[37m\u001b[0m \u001b[1m20s\u001b[0m 57ms/step - accuracy: 0.7197 - loss: 0.9797 - val_accuracy: 0.5942 - val_loss: 1.4761\n",
            "--- Treinamento do Modelo (Fase 1) Concluído ---\n",
            "\n",
            "\n",
            "--- Iniciando o Ajuste Fino (Fase 2: Fine-tuning) ---\n"
          ]
        },
        {
          "output_type": "display_data",
          "data": {
            "text/plain": [
              "\u001b[1mModel: \"sequential_11\"\u001b[0m\n"
            ],
            "text/html": [
              "<pre style=\"white-space:pre;overflow-x:auto;line-height:normal;font-family:Menlo,'DejaVu Sans Mono',consolas,'Courier New',monospace\"><span style=\"font-weight: bold\">Model: \"sequential_11\"</span>\n",
              "</pre>\n"
            ]
          },
          "metadata": {}
        },
        {
          "output_type": "display_data",
          "data": {
            "text/plain": [
              "┏━━━━━━━━━━━━━━━━━━━━━━━━━━━━━━━━━┳━━━━━━━━━━━━━━━━━━━━━━━━┳━━━━━━━━━━━━━━━┓\n",
              "┃\u001b[1m \u001b[0m\u001b[1mLayer (type)                   \u001b[0m\u001b[1m \u001b[0m┃\u001b[1m \u001b[0m\u001b[1mOutput Shape          \u001b[0m\u001b[1m \u001b[0m┃\u001b[1m \u001b[0m\u001b[1m      Param #\u001b[0m\u001b[1m \u001b[0m┃\n",
              "┡━━━━━━━━━━━━━━━━━━━━━━━━━━━━━━━━━╇━━━━━━━━━━━━━━━━━━━━━━━━╇━━━━━━━━━━━━━━━┩\n",
              "│ mobilenetv2_1.00_224            │ (\u001b[38;5;45mNone\u001b[0m, \u001b[38;5;34m5\u001b[0m, \u001b[38;5;34m5\u001b[0m, \u001b[38;5;34m1280\u001b[0m)     │     \u001b[38;5;34m2,257,984\u001b[0m │\n",
              "│ (\u001b[38;5;33mFunctional\u001b[0m)                    │                        │               │\n",
              "├─────────────────────────────────┼────────────────────────┼───────────────┤\n",
              "│ global_average_pooling2d_5      │ (\u001b[38;5;45mNone\u001b[0m, \u001b[38;5;34m1280\u001b[0m)           │             \u001b[38;5;34m0\u001b[0m │\n",
              "│ (\u001b[38;5;33mGlobalAveragePooling2D\u001b[0m)        │                        │               │\n",
              "├─────────────────────────────────┼────────────────────────┼───────────────┤\n",
              "│ dense_17 (\u001b[38;5;33mDense\u001b[0m)                │ (\u001b[38;5;45mNone\u001b[0m, \u001b[38;5;34m121\u001b[0m)            │       \u001b[38;5;34m155,001\u001b[0m │\n",
              "└─────────────────────────────────┴────────────────────────┴───────────────┘\n"
            ],
            "text/html": [
              "<pre style=\"white-space:pre;overflow-x:auto;line-height:normal;font-family:Menlo,'DejaVu Sans Mono',consolas,'Courier New',monospace\">┏━━━━━━━━━━━━━━━━━━━━━━━━━━━━━━━━━┳━━━━━━━━━━━━━━━━━━━━━━━━┳━━━━━━━━━━━━━━━┓\n",
              "┃<span style=\"font-weight: bold\"> Layer (type)                    </span>┃<span style=\"font-weight: bold\"> Output Shape           </span>┃<span style=\"font-weight: bold\">       Param # </span>┃\n",
              "┡━━━━━━━━━━━━━━━━━━━━━━━━━━━━━━━━━╇━━━━━━━━━━━━━━━━━━━━━━━━╇━━━━━━━━━━━━━━━┩\n",
              "│ mobilenetv2_1.00_224            │ (<span style=\"color: #00d7ff; text-decoration-color: #00d7ff\">None</span>, <span style=\"color: #00af00; text-decoration-color: #00af00\">5</span>, <span style=\"color: #00af00; text-decoration-color: #00af00\">5</span>, <span style=\"color: #00af00; text-decoration-color: #00af00\">1280</span>)     │     <span style=\"color: #00af00; text-decoration-color: #00af00\">2,257,984</span> │\n",
              "│ (<span style=\"color: #0087ff; text-decoration-color: #0087ff\">Functional</span>)                    │                        │               │\n",
              "├─────────────────────────────────┼────────────────────────┼───────────────┤\n",
              "│ global_average_pooling2d_5      │ (<span style=\"color: #00d7ff; text-decoration-color: #00d7ff\">None</span>, <span style=\"color: #00af00; text-decoration-color: #00af00\">1280</span>)           │             <span style=\"color: #00af00; text-decoration-color: #00af00\">0</span> │\n",
              "│ (<span style=\"color: #0087ff; text-decoration-color: #0087ff\">GlobalAveragePooling2D</span>)        │                        │               │\n",
              "├─────────────────────────────────┼────────────────────────┼───────────────┤\n",
              "│ dense_17 (<span style=\"color: #0087ff; text-decoration-color: #0087ff\">Dense</span>)                │ (<span style=\"color: #00d7ff; text-decoration-color: #00d7ff\">None</span>, <span style=\"color: #00af00; text-decoration-color: #00af00\">121</span>)            │       <span style=\"color: #00af00; text-decoration-color: #00af00\">155,001</span> │\n",
              "└─────────────────────────────────┴────────────────────────┴───────────────┘\n",
              "</pre>\n"
            ]
          },
          "metadata": {}
        },
        {
          "output_type": "display_data",
          "data": {
            "text/plain": [
              "\u001b[1m Total params: \u001b[0m\u001b[38;5;34m2,412,985\u001b[0m (9.20 MB)\n"
            ],
            "text/html": [
              "<pre style=\"white-space:pre;overflow-x:auto;line-height:normal;font-family:Menlo,'DejaVu Sans Mono',consolas,'Courier New',monospace\"><span style=\"font-weight: bold\"> Total params: </span><span style=\"color: #00af00; text-decoration-color: #00af00\">2,412,985</span> (9.20 MB)\n",
              "</pre>\n"
            ]
          },
          "metadata": {}
        },
        {
          "output_type": "display_data",
          "data": {
            "text/plain": [
              "\u001b[1m Trainable params: \u001b[0m\u001b[38;5;34m2,016,441\u001b[0m (7.69 MB)\n"
            ],
            "text/html": [
              "<pre style=\"white-space:pre;overflow-x:auto;line-height:normal;font-family:Menlo,'DejaVu Sans Mono',consolas,'Courier New',monospace\"><span style=\"font-weight: bold\"> Trainable params: </span><span style=\"color: #00af00; text-decoration-color: #00af00\">2,016,441</span> (7.69 MB)\n",
              "</pre>\n"
            ]
          },
          "metadata": {}
        },
        {
          "output_type": "display_data",
          "data": {
            "text/plain": [
              "\u001b[1m Non-trainable params: \u001b[0m\u001b[38;5;34m396,544\u001b[0m (1.51 MB)\n"
            ],
            "text/html": [
              "<pre style=\"white-space:pre;overflow-x:auto;line-height:normal;font-family:Menlo,'DejaVu Sans Mono',consolas,'Courier New',monospace\"><span style=\"font-weight: bold\"> Non-trainable params: </span><span style=\"color: #00af00; text-decoration-color: #00af00\">396,544</span> (1.51 MB)\n",
              "</pre>\n"
            ]
          },
          "metadata": {}
        },
        {
          "output_type": "stream",
          "name": "stdout",
          "text": [
            "Epoch 10/20\n",
            "\u001b[1m300/300\u001b[0m \u001b[32m━━━━━━━━━━━━━━━━━━━━\u001b[0m\u001b[37m\u001b[0m \u001b[1m37s\u001b[0m 63ms/step - accuracy: 0.5100 - loss: 1.9109 - val_accuracy: 0.5871 - val_loss: 1.4352\n",
            "Epoch 11/20\n",
            "\u001b[1m300/300\u001b[0m \u001b[32m━━━━━━━━━━━━━━━━━━━━\u001b[0m\u001b[37m\u001b[0m \u001b[1m31s\u001b[0m 53ms/step - accuracy: 0.6173 - loss: 1.4671 - val_accuracy: 0.5792 - val_loss: 1.4298\n",
            "Epoch 12/20\n",
            "\u001b[1m300/300\u001b[0m \u001b[32m━━━━━━━━━━━━━━━━━━━━\u001b[0m\u001b[37m\u001b[0m \u001b[1m21s\u001b[0m 54ms/step - accuracy: 0.6585 - loss: 1.2851 - val_accuracy: 0.5913 - val_loss: 1.4020\n",
            "Epoch 13/20\n",
            "\u001b[1m230/300\u001b[0m \u001b[32m━━━━━━━━━━━━━━━\u001b[0m\u001b[37m━━━━━\u001b[0m \u001b[1m3s\u001b[0m 45ms/step - accuracy: 0.6977 - loss: 1.1600"
          ]
        }
      ]
    },
    {
      "cell_type": "code",
      "source": [],
      "metadata": {
        "id": "mXcmVhbgOStG"
      },
      "execution_count": null,
      "outputs": []
    }
  ]
}